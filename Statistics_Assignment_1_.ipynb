{
  "cells": [
    {
      "cell_type": "markdown",
      "source": [
        "# Theory Questions"
      ],
      "metadata": {
        "id": "58p8UHyub-7k"
      },
      "id": "58p8UHyub-7k"
    },
    {
      "cell_type": "markdown",
      "id": "62f3e0fb",
      "metadata": {
        "id": "62f3e0fb"
      },
      "source": [
        "## 📘 1. What is statistics, and why is it important?\n",
        "\n",
        "Statistics is the study of collecting, analyzing, interpreting, and presenting data. It helps in decision-making, trend analysis, and prediction in various fields like business, healthcare, and science."
      ]
    },
    {
      "cell_type": "markdown",
      "id": "119cf5a4",
      "metadata": {
        "id": "119cf5a4"
      },
      "source": [
        "## 📘 2. What are the two main types of statistics?\n",
        "\n",
        "- **Descriptive Statistics**: Summarizes and describes data.\n",
        "- **Inferential Statistics**: Makes predictions about a population based on a sample."
      ]
    },
    {
      "cell_type": "markdown",
      "id": "9788b590",
      "metadata": {
        "id": "9788b590"
      },
      "source": [
        "## 📘 3. What are descriptive statistics?\n",
        "\n",
        "Descriptive statistics summarize data using measures like mean, median, mode, variance, and standard deviation."
      ]
    },
    {
      "cell_type": "markdown",
      "id": "177c475c",
      "metadata": {
        "id": "177c475c"
      },
      "source": [
        "## 📘 4. What is inferential statistics?\n",
        "\n",
        "Inferential statistics makes conclusions about a larger population using a sample through hypothesis testing and regression analysis."
      ]
    },
    {
      "cell_type": "markdown",
      "id": "33b6d182",
      "metadata": {
        "id": "33b6d182"
      },
      "source": [
        "## 📘 5. What is sampling in statistics?\n",
        "\n",
        "Sampling is selecting a subset of individuals from a population to analyze and make inferences."
      ]
    },
    {
      "cell_type": "markdown",
      "id": "31dd325b",
      "metadata": {
        "id": "31dd325b"
      },
      "source": [
        "## 📘 6. What are the different types of sampling methods?\n",
        "\n",
        "- **Random Sampling**: Every individual has an equal chance of selection.\n",
        "- **Stratified Sampling**: Population divided into subgroups, and samples are taken from each.\n",
        "- **Systematic Sampling**: Selecting every nth individual.\n",
        "- **Cluster Sampling**: Dividing the population into clusters and selecting whole clusters randomly.\n",
        "- **Convenience Sampling**: Selecting samples that are easiest to access."
      ]
    },
    {
      "cell_type": "markdown",
      "id": "d5f7fc57",
      "metadata": {
        "id": "d5f7fc57"
      },
      "source": [
        "## 📘 7. What is the difference between random and non-random sampling?\n",
        "\n",
        "- **Random Sampling**: Equal probability for all individuals.\n",
        "- **Non-Random Sampling**: Selection based on convenience, judgment, or voluntary response, leading to bias."
      ]
    },
    {
      "cell_type": "markdown",
      "id": "8098ae9e",
      "metadata": {
        "id": "8098ae9e"
      },
      "source": [
        "## 📘 8. Define and give examples of qualitative and quantitative data.\n",
        "\n",
        "- **Qualitative Data**: Non-numeric, categorical (e.g., gender, colors).\n",
        "- **Quantitative Data**: Numeric, measurable (e.g., height, weight)."
      ]
    },
    {
      "cell_type": "markdown",
      "id": "7f17dcbd",
      "metadata": {
        "id": "7f17dcbd"
      },
      "source": [
        "## 📘 9. What are the different types of data in statistics?\n",
        "\n",
        "- **Nominal**: Categories without order (e.g., gender).\n",
        "- **Ordinal**: Ordered categories (e.g., education level).\n",
        "- **Interval**: Numeric, no true zero (e.g., temperature in Celsius).\n",
        "- **Ratio**: Numeric, true zero exists (e.g., height, weight)."
      ]
    },
    {
      "cell_type": "markdown",
      "id": "aafefeed",
      "metadata": {
        "id": "aafefeed"
      },
      "source": [
        "## 📘 10. Explain nominal, ordinal, interval, and ratio levels of measurement.\n",
        "\n",
        "- **Nominal**: Labels with no rank (e.g., eye color).\n",
        "- **Ordinal**: Ordered categories (e.g., satisfaction rating).\n",
        "- **Interval**: Numeric scale without a true zero (e.g., IQ scores).\n",
        "- **Ratio**: Numeric scale with a true zero (e.g., income)."
      ]
    },
    {
      "cell_type": "markdown",
      "id": "944250fe",
      "metadata": {
        "id": "944250fe"
      },
      "source": [
        "## 📘 11. What is the measure of central tendency?\n",
        "\n",
        "A measure representing the center or typical value of a dataset (mean, median, mode)."
      ]
    },
    {
      "cell_type": "markdown",
      "id": "f8ae6430",
      "metadata": {
        "id": "f8ae6430"
      },
      "source": [
        "## 📘 12. Define mean, median, and mode.\n",
        "\n",
        "- **Mean**: The average value.\n",
        "- **Median**: The middle value.\n",
        "- **Mode**: The most frequently occurring value."
      ]
    },
    {
      "cell_type": "markdown",
      "id": "ef0c21f9",
      "metadata": {
        "id": "ef0c21f9"
      },
      "source": [
        "## 📘 13. What is the significance of the measure of central tendency?\n",
        "\n",
        "It helps summarize data and find a representative value."
      ]
    },
    {
      "cell_type": "markdown",
      "id": "d29afd26",
      "metadata": {
        "id": "d29afd26"
      },
      "source": [
        "## 📘 14. What is variance, and how is it calculated?\n",
        "\n",
        "Variance measures data dispersion. Formula:\n",
        "\\( \\sigma^2 = \\frac{\\sum (x_i - \\mu)^2}{N} \\)."
      ]
    },
    {
      "cell_type": "markdown",
      "id": "bd94fe9a",
      "metadata": {
        "id": "bd94fe9a"
      },
      "source": [
        "## 📘 15. What is standard deviation, and why is it important?\n",
        "\n",
        "Standard deviation is the square root of variance and shows how spread out values are."
      ]
    },
    {
      "cell_type": "markdown",
      "id": "79932e42",
      "metadata": {
        "id": "79932e42"
      },
      "source": [
        "## 📘 16. Define and explain the term range in statistics.\n",
        "\n",
        "Range = Maximum value - Minimum value. It represents data spread."
      ]
    },
    {
      "cell_type": "markdown",
      "id": "b4834ff1",
      "metadata": {
        "id": "b4834ff1"
      },
      "source": [
        "## 📘 17. What is the difference between variance and standard deviation?\n",
        "\n",
        "Standard deviation is the square root of variance. Variance is in squared units, while standard deviation is in the original unit."
      ]
    },
    {
      "cell_type": "markdown",
      "id": "b3e093a5",
      "metadata": {
        "id": "b3e093a5"
      },
      "source": [
        "## 📘 18. What is skewness in a dataset?\n",
        "\n",
        "Skewness measures the asymmetry of the data distribution."
      ]
    },
    {
      "cell_type": "markdown",
      "id": "aec8edcc",
      "metadata": {
        "id": "aec8edcc"
      },
      "source": [
        "## 📘 19. What does it mean if a dataset is positively or negatively skewed?\n",
        "\n",
        "- **Positively Skewed**: Right tail is longer (mean > median).\n",
        "- **Negatively Skewed**: Left tail is longer (mean < median)."
      ]
    },
    {
      "cell_type": "markdown",
      "id": "c78402b4",
      "metadata": {
        "id": "c78402b4"
      },
      "source": [
        "## 📘 20. Define and explain kurtosis.\n",
        "\n",
        "Kurtosis measures the 'tailedness' of a dataset distribution. High kurtosis indicates heavy tails, while low kurtosis indicates light tails."
      ]
    },
    {
      "cell_type": "markdown",
      "id": "f07b9943",
      "metadata": {
        "id": "f07b9943"
      },
      "source": [
        "## 📘 21. What is the purpose of covariance?\n",
        "\n",
        "Covariance measures the relationship between two variables."
      ]
    },
    {
      "cell_type": "markdown",
      "id": "aeaaf6ba",
      "metadata": {
        "id": "aeaaf6ba"
      },
      "source": [
        "## 📘 22. What does correlation measure in statistics?\n",
        "\n",
        "Correlation measures the strength and direction of a linear relationship between two variables."
      ]
    },
    {
      "cell_type": "markdown",
      "id": "9022dd39",
      "metadata": {
        "id": "9022dd39"
      },
      "source": [
        "## 📘 23. What is the difference between covariance and correlation?\n",
        "\n",
        "- **Covariance**: Measures direction of the relationship.\n",
        "- **Correlation**: Standardized measure (ranges between -1 and 1)."
      ]
    },
    {
      "cell_type": "markdown",
      "id": "778e37a8",
      "metadata": {
        "id": "778e37a8"
      },
      "source": [
        "## 📘 24. What are some real-world applications of statistics?\n",
        "\n",
        "- **Business**: Market research, sales forecasting\n",
        "- **Healthcare**: Disease prediction, medical trials\n",
        "- **Finance**: Stock market analysis\n",
        "- **Sports**: Player performance analysis"
      ]
    },
    {
      "cell_type": "markdown",
      "id": "3818156d",
      "metadata": {
        "id": "3818156d"
      },
      "source": [
        "## 🛠 Practical Questions"
      ]
    },
    {
      "cell_type": "markdown",
      "id": "83c1dfb8",
      "metadata": {
        "id": "83c1dfb8"
      },
      "source": [
        "### 1. Calculate the mean, median, and mode of a dataset"
      ]
    },
    {
      "cell_type": "code",
      "execution_count": 20,
      "id": "51760c6f",
      "metadata": {
        "colab": {
          "base_uri": "https://localhost:8080/"
        },
        "id": "51760c6f",
        "outputId": "a308ddd6-b929-44eb-b783-9651c4adc717"
      },
      "outputs": [
        {
          "output_type": "stream",
          "name": "stdout",
          "text": [
            "Mean: 37.142857142857146\n",
            "Median: 40.0\n",
            "Mode: 50\n"
          ]
        }
      ],
      "source": [
        "\n",
        "import numpy as np\n",
        "from scipy import stats\n",
        "\n",
        "data = [10, 20, 30, 40, 50, 50, 60]\n",
        "print(\"Mean:\", np.mean(data))\n",
        "print(\"Median:\", np.median(data))\n",
        "\n",
        "# Check if mode is a scalar or an array, and access it accordingly\n",
        "mode_result = stats.mode(data)\n",
        "mode_value = mode_result.mode\n",
        "if isinstance(mode_value, np.ndarray):  # If mode is an array, get the first element\n",
        "    print(\"Mode:\", mode_value[0])\n",
        "else:  # If mode is a scalar, print it directly\n",
        "    print(\"Mode:\", mode_value)\n"
      ]
    },
    {
      "cell_type": "markdown",
      "id": "dc831590",
      "metadata": {
        "id": "dc831590"
      },
      "source": [
        "### 2. Compute variance and standard deviation"
      ]
    },
    {
      "cell_type": "code",
      "execution_count": 2,
      "id": "36621907",
      "metadata": {
        "colab": {
          "base_uri": "https://localhost:8080/"
        },
        "id": "36621907",
        "outputId": "0e62c7ae-35ee-40fb-c5a4-4feebadedd28"
      },
      "outputs": [
        {
          "output_type": "stream",
          "name": "stdout",
          "text": [
            "Variance: 323.8095238095238\n",
            "Standard Deviation: 17.994708216848746\n"
          ]
        }
      ],
      "source": [
        "\n",
        "print(\"Variance:\", np.var(data, ddof=1))  # Sample variance\n",
        "print(\"Standard Deviation:\", np.std(data, ddof=1))  # Sample std deviation\n"
      ]
    },
    {
      "cell_type": "markdown",
      "id": "383bbf29",
      "metadata": {
        "id": "383bbf29"
      },
      "source": [
        "### 3. Create a dataset and classify it"
      ]
    },
    {
      "cell_type": "code",
      "execution_count": 3,
      "id": "0271e26c",
      "metadata": {
        "colab": {
          "base_uri": "https://localhost:8080/"
        },
        "id": "0271e26c",
        "outputId": "ef46cdb8-792c-415f-cdb7-78728601d024"
      },
      "outputs": [
        {
          "output_type": "stream",
          "name": "stdout",
          "text": [
            "{'Nominal': ['Red', 'Blue', 'Green'], 'Ordinal': ['Low', 'Medium', 'High'], 'Interval': [10, 20, 30], 'Ratio': [5, 10, 15]}\n"
          ]
        }
      ],
      "source": [
        "\n",
        "dataset = {\n",
        "    \"Nominal\": [\"Red\", \"Blue\", \"Green\"],\n",
        "    \"Ordinal\": [\"Low\", \"Medium\", \"High\"],\n",
        "    \"Interval\": [10, 20, 30],\n",
        "    \"Ratio\": [5, 10, 15]\n",
        "}\n",
        "print(dataset)\n"
      ]
    },
    {
      "cell_type": "markdown",
      "id": "7e0cbc77",
      "metadata": {
        "id": "7e0cbc77"
      },
      "source": [
        "### 4. Implement random and stratified sampling"
      ]
    },
    {
      "cell_type": "code",
      "execution_count": 4,
      "id": "019bd376",
      "metadata": {
        "colab": {
          "base_uri": "https://localhost:8080/"
        },
        "id": "019bd376",
        "outputId": "bd67512c-831b-4ed6-a756-ad0625493ddc"
      },
      "outputs": [
        {
          "output_type": "stream",
          "name": "stdout",
          "text": [
            "Random Sample: [93, 37, 30, 8, 32, 91, 19, 36, 55, 96]\n",
            "  Category  Value\n",
            "1        A     20\n",
            "3        B     40\n",
            "6        C     70\n"
          ]
        },
        {
          "output_type": "stream",
          "name": "stderr",
          "text": [
            "<ipython-input-4-609f28e374d3>:10: DeprecationWarning: DataFrameGroupBy.apply operated on the grouping columns. This behavior is deprecated, and in a future version of pandas the grouping columns will be excluded from the operation. Either pass `include_groups=False` to exclude the groupings or explicitly select the grouping columns after groupby to silence this warning.\n",
            "  stratified_sample = data.groupby('Category', group_keys=False).apply(lambda x: x.sample(1))\n"
          ]
        }
      ],
      "source": [
        "\n",
        "import random\n",
        "import pandas as pd\n",
        "\n",
        "population = list(range(1, 101))  # 1 to 100\n",
        "random_sample = random.sample(population, 10)\n",
        "print(\"Random Sample:\", random_sample)\n",
        "\n",
        "# Stratified Sampling\n",
        "data = pd.DataFrame({'Category': ['A', 'A', 'B', 'B', 'C', 'C', 'C'], 'Value': [10, 20, 30, 40, 50, 60, 70]})\n",
        "stratified_sample = data.groupby('Category', group_keys=False).apply(lambda x: x.sample(1))\n",
        "print(stratified_sample)\n"
      ]
    },
    {
      "cell_type": "markdown",
      "id": "0d132fd9",
      "metadata": {
        "id": "0d132fd9"
      },
      "source": [
        "### 5. Plot a histogram to visualize skewness"
      ]
    },
    {
      "cell_type": "code",
      "execution_count": 5,
      "id": "bfec5931",
      "metadata": {
        "colab": {
          "base_uri": "https://localhost:8080/",
          "height": 452
        },
        "id": "bfec5931",
        "outputId": "eab20ca7-3081-442b-b01b-3f924c82a14d"
      },
      "outputs": [
        {
          "output_type": "display_data",
          "data": {
            "text/plain": [
              "<Figure size 640x480 with 1 Axes>"
            ],
            "image/png": "[encoded data removed]"
          },
          "metadata": {}
        }
      ],
      "source": [
        "\n",
        "import matplotlib.pyplot as plt\n",
        "import seaborn as sns\n",
        "\n",
        "sns.histplot(data, kde=True)\n",
        "plt.title(\"Histogram\")\n",
        "plt.show()\n"
      ]
    },
    {
      "cell_type": "markdown",
      "id": "2e4e88d0",
      "metadata": {
        "id": "2e4e88d0"
      },
      "source": [
        "### 6. Calculate skewness and kurtosis"
      ]
    },
    {
      "cell_type": "code",
      "execution_count": 19,
      "id": "b506e09c",
      "metadata": {
        "colab": {
          "base_uri": "https://localhost:8080/"
        },
        "id": "b506e09c",
        "outputId": "05c1b848-adf6-4804-c71d-fbdbdb9e26c1"
      },
      "outputs": [
        {
          "output_type": "stream",
          "name": "stdout",
          "text": [
            "Skewness: 0.0\n",
            "Kurtosis: -1.25\n"
          ]
        }
      ],
      "source": [
        "\n",
        "from scipy.stats import skew, kurtosis\n",
        "\n",
        "# Select only the numeric column for skewness and kurtosis calculations\n",
        "numeric_data = data['Value']  # Assuming 'Value' is the numeric column\n",
        "\n",
        "print(\"Skewness:\", skew(numeric_data))\n",
        "print(\"Kurtosis:\", kurtosis(numeric_data))\n"
      ]
    },
    {
      "cell_type": "markdown",
      "id": "22463371",
      "metadata": {
        "id": "22463371"
      },
      "source": [
        "### 7. Compute covariance and correlation"
      ]
    },
    {
      "cell_type": "code",
      "execution_count": 7,
      "id": "9270c0bd",
      "metadata": {
        "colab": {
          "base_uri": "https://localhost:8080/"
        },
        "id": "9270c0bd",
        "outputId": "8c5cafef-5571-42c9-a0fe-7421e276a6e1"
      },
      "outputs": [
        {
          "output_type": "stream",
          "name": "stdout",
          "text": [
            "Covariance: 5.0\n",
            "Correlation Coefficient: 0.9999999999999999\n"
          ]
        }
      ],
      "source": [
        "\n",
        "x = [1, 2, 3, 4, 5]\n",
        "y = [2, 4, 6, 8, 10]\n",
        "\n",
        "cov_matrix = np.cov(x, y)\n",
        "corr_matrix = np.corrcoef(x, y)\n",
        "\n",
        "print(\"Covariance:\", cov_matrix[0, 1])\n",
        "print(\"Correlation Coefficient:\", corr_matrix[0, 1])\n"
      ]
    },
    {
      "cell_type": "markdown",
      "id": "2d9d4eb4",
      "metadata": {
        "id": "2d9d4eb4"
      },
      "source": [
        "### 8. Create a scatter plot to visualize the relationship between two variables"
      ]
    },
    {
      "cell_type": "code",
      "execution_count": 8,
      "id": "6ccaf957",
      "metadata": {
        "colab": {
          "base_uri": "https://localhost:8080/",
          "height": 472
        },
        "id": "6ccaf957",
        "outputId": "24155352-7647-459b-9c63-b47437c1a3e8"
      },
      "outputs": [
        {
          "output_type": "display_data",
          "data": {
            "text/plain": [
              "<Figure size 640x480 with 1 Axes>"
            ],
            "image/png": "[encoded data removed]"
          },
          "metadata": {}
        }
      ],
      "source": [
        "\n",
        "plt.scatter(x, y)\n",
        "plt.xlabel(\"X values\")\n",
        "plt.ylabel(\"Y values\")\n",
        "plt.title(\"Scatter Plot\")\n",
        "plt.show()\n"
      ]
    },
    {
      "cell_type": "markdown",
      "id": "eed0dba8",
      "metadata": {
        "id": "eed0dba8"
      },
      "source": [
        "### 9. Implement the Pearson and Spearman correlation coefficients"
      ]
    },
    {
      "cell_type": "code",
      "execution_count": 9,
      "id": "b0ba3a6f",
      "metadata": {
        "colab": {
          "base_uri": "https://localhost:8080/"
        },
        "id": "b0ba3a6f",
        "outputId": "ef663eb2-26ac-44b9-c3eb-68b934814161"
      },
      "outputs": [
        {
          "output_type": "stream",
          "name": "stdout",
          "text": [
            "Pearson Correlation: 1.0\n",
            "Spearman Correlation: 0.9999999999999999\n"
          ]
        }
      ],
      "source": [
        "\n",
        "from scipy.stats import pearsonr, spearmanr\n",
        "\n",
        "pearson_corr, _ = pearsonr(x, y)\n",
        "spearman_corr, _ = spearmanr(x, y)\n",
        "\n",
        "print(\"Pearson Correlation:\", pearson_corr)\n",
        "print(\"Spearman Correlation:\", spearman_corr)\n"
      ]
    },
    {
      "cell_type": "markdown",
      "id": "1cb55c63",
      "metadata": {
        "id": "1cb55c63"
      },
      "source": [
        "### 10. Implement and compare simple random sampling and systematic sampling"
      ]
    },
    {
      "cell_type": "code",
      "execution_count": 10,
      "id": "5579a44e",
      "metadata": {
        "colab": {
          "base_uri": "https://localhost:8080/"
        },
        "id": "5579a44e",
        "outputId": "232aac19-98ce-4a4e-f7a7-d13e4c6c2eee"
      },
      "outputs": [
        {
          "output_type": "stream",
          "name": "stdout",
          "text": [
            "Simple Random Sample: [45, 79, 16, 7, 34, 14, 63, 59, 99, 94]\n",
            "Systematic Sample: [1, 6, 11, 16, 21, 26, 31, 36, 41, 46, 51, 56, 61, 66, 71, 76, 81, 86, 91, 96]\n"
          ]
        }
      ],
      "source": [
        "\n",
        "import random\n",
        "\n",
        "# Simple Random Sampling\n",
        "random_sample = random.sample(population, 10)\n",
        "print(\"Simple Random Sample:\", random_sample)\n",
        "\n",
        "# Systematic Sampling (every 5th element)\n",
        "systematic_sample = population[::5]\n",
        "print(\"Systematic Sample:\", systematic_sample)\n"
      ]
    },
    {
      "cell_type": "markdown",
      "id": "02b70b4f",
      "metadata": {
        "id": "02b70b4f"
      },
      "source": [
        "### 11. Calculate the mean, median, and mode of grouped data"
      ]
    },
    {
      "cell_type": "code",
      "execution_count": 11,
      "id": "28368e1e",
      "metadata": {
        "colab": {
          "base_uri": "https://localhost:8080/"
        },
        "id": "28368e1e",
        "outputId": "39af82d2-a513-4dd0-c33e-af6e43e4fb5c"
      },
      "outputs": [
        {
          "output_type": "stream",
          "name": "stdout",
          "text": [
            "Mean: 26.666666666666668\n",
            "Median: 20\n",
            "Mode: 20\n"
          ]
        }
      ],
      "source": [
        "\n",
        "from statistics import mean, median, mode\n",
        "\n",
        "grouped_data = [10, 10, 20, 20, 20, 30, 40, 40, 50]\n",
        "print(\"Mean:\", mean(grouped_data))\n",
        "print(\"Median:\", median(grouped_data))\n",
        "print(\"Mode:\", mode(grouped_data))\n"
      ]
    },
    {
      "cell_type": "markdown",
      "id": "7f65affa",
      "metadata": {
        "id": "7f65affa"
      },
      "source": [
        "### 12. Simulate data using Python and calculate its central tendency and dispersion"
      ]
    },
    {
      "cell_type": "code",
      "execution_count": 12,
      "id": "0afff3e6",
      "metadata": {
        "colab": {
          "base_uri": "https://localhost:8080/"
        },
        "id": "0afff3e6",
        "outputId": "4aaa77c6-b8ef-4204-c5f1-64a2807ccfbf"
      },
      "outputs": [
        {
          "output_type": "stream",
          "name": "stdout",
          "text": [
            "Mean: 59.15\n",
            "Standard Deviation: 32.66997857360791\n"
          ]
        }
      ],
      "source": [
        "\n",
        "simulated_data = np.random.randint(1, 100, 20)\n",
        "print(\"Mean:\", np.mean(simulated_data))\n",
        "print(\"Standard Deviation:\", np.std(simulated_data))\n"
      ]
    },
    {
      "cell_type": "markdown",
      "id": "2186020c",
      "metadata": {
        "id": "2186020c"
      },
      "source": [
        "### 13. Use NumPy or pandas to summarize a dataset’s descriptive statistics"
      ]
    },
    {
      "cell_type": "code",
      "execution_count": 13,
      "id": "89bf4564",
      "metadata": {
        "colab": {
          "base_uri": "https://localhost:8080/"
        },
        "id": "89bf4564",
        "outputId": "7d834da0-15f3-41e3-a9b5-5deb317346a5"
      },
      "outputs": [
        {
          "output_type": "stream",
          "name": "stdout",
          "text": [
            "          Values\n",
            "count  20.000000\n",
            "mean   59.150000\n",
            "std    33.518691\n",
            "min    10.000000\n",
            "25%    24.750000\n",
            "50%    67.500000\n",
            "75%    91.750000\n",
            "max    99.000000\n"
          ]
        }
      ],
      "source": [
        "\n",
        "df = pd.DataFrame(simulated_data, columns=[\"Values\"])\n",
        "print(df.describe())\n"
      ]
    },
    {
      "cell_type": "markdown",
      "id": "c2b0a0cd",
      "metadata": {
        "id": "c2b0a0cd"
      },
      "source": [
        "### 14. Plot a boxplot to understand the spread and identify outliers"
      ]
    },
    {
      "cell_type": "code",
      "execution_count": 14,
      "id": "0f401c2c",
      "metadata": {
        "colab": {
          "base_uri": "https://localhost:8080/",
          "height": 433
        },
        "id": "0f401c2c",
        "outputId": "9aaa43c0-b15c-4568-84ed-ac48f4f15fa5"
      },
      "outputs": [
        {
          "output_type": "display_data",
          "data": {
            "text/plain": [
              "<Figure size 640x480 with 1 Axes>"
            ],
            "image/png": "[encoded data removed]"
          },
          "metadata": {}
        }
      ],
      "source": [
        "\n",
        "sns.boxplot(data=simulated_data)\n",
        "plt.title(\"Boxplot\")\n",
        "plt.show()\n"
      ]
    },
    {
      "cell_type": "markdown",
      "id": "264f20fb",
      "metadata": {
        "id": "264f20fb"
      },
      "source": [
        "### 15. Calculate the interquartile range (IQR) of a dataset"
      ]
    },
    {
      "cell_type": "code",
      "execution_count": 15,
      "id": "b56d3406",
      "metadata": {
        "colab": {
          "base_uri": "https://localhost:8080/"
        },
        "id": "b56d3406",
        "outputId": "6a2002fe-663f-46a5-9b27-0f6bbcf45c6f"
      },
      "outputs": [
        {
          "output_type": "stream",
          "name": "stdout",
          "text": [
            "Interquartile Range (IQR): 67.0\n"
          ]
        }
      ],
      "source": [
        "\n",
        "Q1 = np.percentile(simulated_data, 25)\n",
        "Q3 = np.percentile(simulated_data, 75)\n",
        "IQR = Q3 - Q1\n",
        "print(\"Interquartile Range (IQR):\", IQR)\n"
      ]
    },
    {
      "cell_type": "markdown",
      "id": "dc1011aa",
      "metadata": {
        "id": "dc1011aa"
      },
      "source": [
        "### 16. Implement Z-score normalization and explain its significance"
      ]
    },
    {
      "cell_type": "code",
      "execution_count": 18,
      "id": "3549b91e",
      "metadata": {
        "colab": {
          "base_uri": "https://localhost:8080/"
        },
        "id": "3549b91e",
        "outputId": "82bc5d2c-f0a6-4aa9-d99b-bc9fad5c1294"
      },
      "outputs": [
        {
          "output_type": "stream",
          "name": "stdout",
          "text": [
            "Z-score Normalized Data: [ 0.97490116 -1.04530219 -0.31068279  1.15855601  1.12794687  0.33210919\n",
            " -1.19834789  1.15855601  0.42393661  0.17906348  0.73002803 -1.50443931\n",
            " -1.47383017 -0.80042905  0.88307373  1.21977429 -1.07591133 -1.29017532\n",
            "  1.06672858 -0.55555592]\n"
          ]
        }
      ],
      "source": [
        "from scipy.stats import zscore\n",
        "z_scores = zscore(simulated_data)\n",
        "print(\"Z-score Normalized Data:\", z_scores)\n"
      ]
    },
    {
      "cell_type": "markdown",
      "id": "0f977ead",
      "metadata": {
        "id": "0f977ead"
      },
      "source": [
        "### 17. Compare two datasets using their standard deviations"
      ]
    },
    {
      "cell_type": "code",
      "execution_count": 17,
      "id": "3b1a89f0",
      "metadata": {
        "colab": {
          "base_uri": "https://localhost:8080/"
        },
        "id": "3b1a89f0",
        "outputId": "02265785-aca1-4a5e-fe8f-b7678f5ae676"
      },
      "outputs": [
        {
          "output_type": "stream",
          "name": "stdout",
          "text": [
            "Standard Deviation of Dataset 1: 32.03946784826489\n",
            "Standard Deviation of Dataset 2: 27.936490473930327\n"
          ]
        }
      ],
      "source": [
        "\n",
        "data1 = np.random.randint(1, 100, 20)\n",
        "data2 = np.random.randint(1, 100, 20)\n",
        "\n",
        "std1 = np.std(data1)\n",
        "std2 = np.std(data2)\n",
        "\n",
        "print(\"Standard Deviation of Dataset 1:\", std1)\n",
        "print(\"Standard Deviation of Dataset 2:\", std2)\n"
      ]
    },
    {
      "cell_type": "markdown",
      "id": "892ebcc5",
      "metadata": {
        "id": "892ebcc5"
      },
      "source": [
        "### 18. Write a Python program to visualize covariance using a heatmap"
      ]
    },
    {
      "cell_type": "code",
      "execution_count": 21,
      "id": "fc6cf456",
      "metadata": {
        "colab": {
          "base_uri": "https://localhost:8080/",
          "height": 452
        },
        "id": "fc6cf456",
        "outputId": "da305d76-43c5-4f98-861a-b7147c5b174c"
      },
      "outputs": [
        {
          "output_type": "display_data",
          "data": {
            "text/plain": [
              "<Figure size 640x480 with 2 Axes>"
            ],
            "image/png": "[encoded data removed]"
          },
          "metadata": {}
        }
      ],
      "source": [
        "\n",
        "sns.heatmap(np.cov(x, y), annot=True, cmap=\"coolwarm\")\n",
        "plt.title(\"Covariance Heatmap\")\n",
        "plt.show()\n"
      ]
    },
    {
      "cell_type": "markdown",
      "id": "54906071",
      "metadata": {
        "id": "54906071"
      },
      "source": [
        "### 19. Use seaborn to create a correlation matrix for a dataset"
      ]
    },
    {
      "cell_type": "code",
      "execution_count": 22,
      "id": "cee77a90",
      "metadata": {
        "colab": {
          "base_uri": "https://localhost:8080/",
          "height": 452
        },
        "id": "cee77a90",
        "outputId": "f5226d96-e587-4f67-d753-2d3b42707bea"
      },
      "outputs": [
        {
          "output_type": "display_data",
          "data": {
            "text/plain": [
              "<Figure size 640x480 with 2 Axes>"
            ],
            "image/png": "[encoded data removed]"
          },
          "metadata": {}
        }
      ],
      "source": [
        "\n",
        "df = pd.DataFrame({'X': x, 'Y': y})\n",
        "sns.heatmap(df.corr(), annot=True, cmap=\"coolwarm\")\n",
        "plt.title(\"Correlation Matrix\")\n",
        "plt.show()\n"
      ]
    },
    {
      "cell_type": "markdown",
      "id": "55a5f529",
      "metadata": {
        "id": "55a5f529"
      },
      "source": [
        "### 20. Generate a dataset and implement both variance and standard deviation computations"
      ]
    },
    {
      "cell_type": "code",
      "execution_count": 23,
      "id": "67cd57cc",
      "metadata": {
        "colab": {
          "base_uri": "https://localhost:8080/"
        },
        "id": "67cd57cc",
        "outputId": "ef2f4992-cfe5-4e58-e48d-254508536aac"
      },
      "outputs": [
        {
          "output_type": "stream",
          "name": "stdout",
          "text": [
            "Variance: 1041.8766666666668\n",
            "Standard Deviation: 32.27811436045586\n"
          ]
        }
      ],
      "source": [
        "\n",
        "dataset = np.random.randint(1, 100, 30)\n",
        "print(\"Variance:\", np.var(dataset))\n",
        "print(\"Standard Deviation:\", np.std(dataset))\n"
      ]
    },
    {
      "cell_type": "markdown",
      "id": "9f61c762",
      "metadata": {
        "id": "9f61c762"
      },
      "source": [
        "### 21. Visualize skewness and kurtosis using Python libraries"
      ]
    },
    {
      "cell_type": "code",
      "execution_count": 24,
      "id": "c4bec8fa",
      "metadata": {
        "colab": {
          "base_uri": "https://localhost:8080/",
          "height": 487
        },
        "id": "c4bec8fa",
        "outputId": "aa2b09f0-11f5-4406-aa88-38f7f2275d82"
      },
      "outputs": [
        {
          "output_type": "display_data",
          "data": {
            "text/plain": [
              "<Figure size 640x480 with 1 Axes>"
            ],
            "image/png": "[encoded data removed]"
          },
          "metadata": {}
        },
        {
          "output_type": "stream",
          "name": "stdout",
          "text": [
            "Skewness: 0.6278600255368858\n",
            "Kurtosis: -1.0740170754957172\n"
          ]
        }
      ],
      "source": [
        "\n",
        "sns.histplot(dataset, kde=True)\n",
        "plt.title(\"Histogram with Skewness & Kurtosis\")\n",
        "plt.show()\n",
        "\n",
        "print(\"Skewness:\", skew(dataset))\n",
        "print(\"Kurtosis:\", kurtosis(dataset))\n"
      ]
    },
    {
      "cell_type": "markdown",
      "id": "2ca00c1d",
      "metadata": {
        "id": "2ca00c1d"
      },
      "source": [
        "### 22. Generate a dataset and demonstrate positive and negative skewness"
      ]
    },
    {
      "cell_type": "code",
      "execution_count": 25,
      "id": "dbe78855",
      "metadata": {
        "colab": {
          "base_uri": "https://localhost:8080/",
          "height": 887
        },
        "id": "dbe78855",
        "outputId": "8898ee7b-b947-43c0-d124-d0078254f8dc"
      },
      "outputs": [
        {
          "output_type": "display_data",
          "data": {
            "text/plain": [
              "<Figure size 640x480 with 1 Axes>"
            ],
            "image/png": "[encoded data removed]"
          },
          "metadata": {}
        },
        {
          "output_type": "display_data",
          "data": {
            "text/plain": [
              "<Figure size 640x480 with 1 Axes>"
            ],
            "image/png": "[encoded data removed]"
          },
          "metadata": {}
        }
      ],
      "source": [
        "\n",
        "skewed_data_positive = [1, 2, 3, 4, 5, 50]\n",
        "skewed_data_negative = [50, 30, 20, 15, 10, 5]\n",
        "\n",
        "sns.histplot(skewed_data_positive, kde=True)\n",
        "plt.title(\"Positively Skewed Data\")\n",
        "plt.show()\n",
        "\n",
        "sns.histplot(skewed_data_negative, kde=True)\n",
        "plt.title(\"Negatively Skewed Data\")\n",
        "plt.show()\n"
      ]
    },
    {
      "cell_type": "markdown",
      "id": "a2304e44",
      "metadata": {
        "id": "a2304e44"
      },
      "source": [
        "### 23. Implement the Pearson and Spearman correlation coefficients for a dataset"
      ]
    },
    {
      "cell_type": "code",
      "execution_count": 26,
      "id": "92e494de",
      "metadata": {
        "colab": {
          "base_uri": "https://localhost:8080/"
        },
        "id": "92e494de",
        "outputId": "95aa308d-3858-49cf-aac1-5dda32de9386"
      },
      "outputs": [
        {
          "output_type": "stream",
          "name": "stdout",
          "text": [
            "Pearson Correlation: 1.0\n",
            "Spearman Correlation: 0.9999999999999999\n"
          ]
        }
      ],
      "source": [
        "\n",
        "pearson_corr, _ = pearsonr(x, y)\n",
        "spearman_corr, _ = spearmanr(x, y)\n",
        "\n",
        "print(\"Pearson Correlation:\", pearson_corr)\n",
        "print(\"Spearman Correlation:\", spearman_corr)\n"
      ]
    },
    {
      "cell_type": "markdown",
      "id": "9d2050b3",
      "metadata": {
        "id": "9d2050b3"
      },
      "source": [
        "### 24. Create a scatter plot to visualize the relationship between two variables"
      ]
    },
    {
      "cell_type": "code",
      "execution_count": 27,
      "id": "d3053569",
      "metadata": {
        "colab": {
          "base_uri": "https://localhost:8080/",
          "height": 472
        },
        "id": "d3053569",
        "outputId": "9de5ce6c-b8f3-4723-9090-5e999ab46b0d"
      },
      "outputs": [
        {
          "output_type": "display_data",
          "data": {
            "text/plain": [
              "<Figure size 640x480 with 1 Axes>"
            ],
            "image/png": "[encoded data removed]"
          },
          "metadata": {}
        }
      ],
      "source": [
        "\n",
        "plt.scatter(x, y)\n",
        "plt.xlabel(\"X values\")\n",
        "plt.ylabel(\"Y values\")\n",
        "plt.title(\"Scatter Plot\")\n",
        "plt.show()\n"
      ]
    }
  ],
  "metadata": {
    "colab": {
      "provenance": []
    },
    "language_info": {
      "name": "python"
    },
    "kernelspec": {
      "name": "python3",
      "display_name": "Python 3"
    }
  },
  "nbformat": 4,
  "nbformat_minor": 5
}